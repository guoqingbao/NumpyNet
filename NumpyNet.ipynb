{
 "cells": [
  {
   "cell_type": "markdown",
   "metadata": {},
   "source": [
    "## Library Prerequisites"
   ]
  },
  {
   "cell_type": "code",
   "execution_count": 1,
   "metadata": {},
   "outputs": [],
   "source": [
    "import random\n",
    "import numpy as np\n",
    "np.random.seed(42)\n",
    "from collections import defaultdict\n",
    "import matplotlib.pyplot as plt\n",
    "from sklearn.datasets import fetch_openml\n",
    "from sklearn.model_selection import train_test_split"
   ]
  },
  {
   "cell_type": "markdown",
   "metadata": {},
   "source": [
    "## One-hot Encoding"
   ]
  },
  {
   "cell_type": "code",
   "execution_count": 2,
   "metadata": {},
   "outputs": [],
   "source": [
    "def to_categorical(y, num_classes=None, dtype='float32'):\n",
    "    y = np.array(y, dtype='int')\n",
    "    input_shape = y.shape\n",
    "    if input_shape and input_shape[-1] == 1 and len(input_shape) > 1:\n",
    "        input_shape = tuple(input_shape[:-1])\n",
    "    y = y.ravel()\n",
    "    if not num_classes:\n",
    "        num_classes = np.max(y) + 1\n",
    "    n = y.shape[0]\n",
    "    categorical = np.zeros((n, num_classes), dtype=dtype)\n",
    "    categorical[np.arange(n), y] = 1\n",
    "    output_shape = input_shape + (num_classes,)\n",
    "    categorical = np.reshape(categorical, output_shape)\n",
    "    return categorical"
   ]
  },
  {
   "cell_type": "markdown",
   "metadata": {},
   "source": [
    "## Preprocessing"
   ]
  },
  {
   "cell_type": "code",
   "execution_count": 3,
   "metadata": {},
   "outputs": [],
   "source": [
    "x, y = fetch_openml('mnist_784', version=1, return_X_y=True)"
   ]
  },
  {
   "cell_type": "code",
   "execution_count": 4,
   "metadata": {},
   "outputs": [],
   "source": [
    "x = (x/255.).astype(np.float32)\n",
    "y = to_categorical(y)"
   ]
  },
  {
   "cell_type": "code",
   "execution_count": 5,
   "metadata": {},
   "outputs": [],
   "source": [
    "x_train, x_test, y_train, y_test = train_test_split(x, y, test_size=0.15, random_state=42)"
   ]
  },
  {
   "cell_type": "code",
   "execution_count": 6,
   "metadata": {},
   "outputs": [
    {
     "data": {
      "text/plain": [
       "<matplotlib.image.AxesImage at 0x1ffba3c8d00>"
      ]
     },
     "execution_count": 6,
     "metadata": {},
     "output_type": "execute_result"
    },
    {
     "data": {
      "image/png": "[encoded data removed]",
      "text/plain": [
       "<Figure size 432x288 with 1 Axes>"
      ]
     },
     "metadata": {
      "needs_background": "light"
     },
     "output_type": "display_data"
    }
   ],
   "source": [
    "plt.imshow(x_train[0].reshape(28, 28), cmap='gray')"
   ]
  },
  {
   "cell_type": "markdown",
   "metadata": {},
   "source": [
    "## Network Implementation"
   ]
  },
  {
   "cell_type": "markdown",
   "metadata": {},
   "source": [
    "![alt text](network.jpeg \"2 hidden-layers Neural Network\")"
   ]
  },
  {
   "cell_type": "code",
   "execution_count": 9,
   "metadata": {},
   "outputs": [],
   "source": [
    "class NumpyNet():\n",
    "    def __init__(self, nodes, epochs=20, lr=0.5):\n",
    "        self.nodes = nodes # neurons in each layer\n",
    "        self.epochs = epochs\n",
    "        self.lr = lr # learning rate\n",
    "        self.params = {}\n",
    "        self.n_weights = len(nodes) - 1       \n",
    "        self.create()\n",
    "        \n",
    "    def create(self): # init network weights\n",
    "        # three network weights\n",
    "        for i in range(self.n_weights):\n",
    "            self.params['W'+str(i+1)] = np.random.randn(self.nodes[i+1], self.nodes[i]) * np.sqrt(1. / self.nodes[i+1]) #multiply with small values\n",
    "    \n",
    "    def relu(self, x, deriv = False):\n",
    "        if deriv:\n",
    "            return x > 0 #derivative of relu\n",
    "        return np.maximum(0, x)\n",
    "    \n",
    "    def softmax(self, x, deriv = False):\n",
    "        exps = np.exp(x - x.max())\n",
    "        if deriv:\n",
    "            return exps/np.sum(exps, axis=0) * (1- exps/np.sum(exps, axis=0)) #derivative of softmax\n",
    "        return exps / np.sum(exps, axis=0)\n",
    "    \n",
    "    def forward(self, x):\n",
    "        out = x\n",
    "        self.params['O0'] = out\n",
    "        for i in range(self.n_weights):\n",
    "            order = i + 1\n",
    "            self.params['Z'+str(order)] = np.dot(self.params['W'+str(order)], out)\n",
    "             \n",
    "            if order==self.n_weights: \n",
    "                out = self.softmax(self.params['Z'+str(order)])\n",
    "            else:\n",
    "                out = self.relu(self.params['Z'+str(order)])\n",
    "            self.params['O'+str(order)] = out\n",
    "        return out\n",
    "    \n",
    "    def backward(self, y, output):\n",
    "        wparams = {}\n",
    "        #the last layer\n",
    "        error = 2 * (output - y)/output.shape[0] * self.softmax(self.params['Z'+str(self.n_weights)], deriv=True)\n",
    "        wparams['W'+str(self.n_weights)] = np.outer(error, self.params['O'+str(self.n_weights-1)])\n",
    "\n",
    "        #the former layers\n",
    "        for i in range(1, self.n_weights):\n",
    "            error = np.dot(self.params['W'+str(self.n_weights-i+1)].T, error) * self.relu(self.params['Z'+str(self.n_weights-i)], deriv=True)\n",
    "            wparams['W'+str(self.n_weights-i)] = np.outer(error, self.params['O'+str(self.n_weights-i-1)])\n",
    "            \n",
    "        return wparams\n",
    "    \n",
    "    def update(self, wparams, lr):\n",
    "        for key, v in wparams.items():\n",
    "            self.params[key] -= lr * v #update network weight with changes calculated before\n",
    "            \n",
    "    def accuracy(self, x_test, y_test):\n",
    "        predictions = []\n",
    "        for x, y in zip(x_test, y_test):\n",
    "            output = self.forward(x)\n",
    "            pred = np.argmax(output)\n",
    "            predictions.append(pred == np.argmax(y))\n",
    "        return np.mean(predictions)\n",
    "    \n",
    "    def train_(self, x_train, y_train, x_test, y_test):#train with SGD\n",
    "        for iteration in range(self.epochs):\n",
    "            for x, y in zip(x_train, y_train):\n",
    "                output = self.forward(x)\n",
    "                wparams = self.backward(y, output)\n",
    "                self.update(wparams)\n",
    "                \n",
    "            acc = self.accuracy(x_test, y_test)\n",
    "            print(\"Epoch {0} -- Accuracy {1:.05f}%\".format(iteration, acc))\n",
    "            \n",
    "    def train(self, x_train, y_train, x_test, y_test, batch_size=1, lr_decay = False):#train with mini-batch SGD\n",
    "        if batch_size < 2:\n",
    "            return self.train_(x_train, y_train, x_test, y_test)\n",
    "        \n",
    "        for iteration in range(self.epochs):\n",
    "            traindata = np.concatenate((x_train, y_train), axis=1)\n",
    "            random.shuffle(traindata)\n",
    "            batches = [traindata[k:k+batch_size] for k in range(0, len(traindata), batch_size)] # mini batch\n",
    "            \n",
    "            lr = self.lr* (self.epochs-iteration)/self.epochs if lr_decay else self.lr # learning rate decay\n",
    "            for batch in batches:\n",
    "                wparams_ = defaultdict(list)\n",
    "                wparams = {}\n",
    "                for data in batch:\n",
    "                    x, y = data[:784], data[784:]\n",
    "                    output = self.forward(x)\n",
    "                    wps = self.backward(y, output)\n",
    "                    for key, v in wps.items():\n",
    "                        wparams_[key].append(v)\n",
    "                        \n",
    "                for key, v in wparams_.items():        \n",
    "                    wparams[key] = np.mean(wparams_[key],axis=0)#mean of mini batch weight changes\n",
    "                self.update(wparams, lr)  # update weights in each mini batch\n",
    "                \n",
    "            acc = self.accuracy(x_test, y_test)\n",
    "            print(\"Epoch {0} -- LR {1:.05f} -- Accuracy {2:.03f}%\".format(iteration,lr, acc*100))          \n",
    "    "
   ]
  },
  {
   "cell_type": "code",
   "execution_count": 115,
   "metadata": {},
   "outputs": [
    {
     "name": "stdout",
     "output_type": "stream",
     "text": [
      "Epoch 0 -- LR 0.50000 -- Accuracy 0.94943%\n",
      "Epoch 1 -- LR 0.47500 -- Accuracy 0.95886%\n",
      "Epoch 2 -- LR 0.45000 -- Accuracy 0.95657%\n",
      "Epoch 3 -- LR 0.42500 -- Accuracy 0.96686%\n",
      "Epoch 4 -- LR 0.40000 -- Accuracy 0.96924%\n",
      "Epoch 5 -- LR 0.37500 -- Accuracy 0.96876%\n",
      "Epoch 6 -- LR 0.35000 -- Accuracy 0.97010%\n",
      "Epoch 7 -- LR 0.32500 -- Accuracy 0.96971%\n",
      "Epoch 8 -- LR 0.30000 -- Accuracy 0.96971%\n",
      "Epoch 9 -- LR 0.27500 -- Accuracy 0.96924%\n",
      "Epoch 10 -- LR 0.25000 -- Accuracy 0.97229%\n",
      "Epoch 11 -- LR 0.22500 -- Accuracy 0.97095%\n",
      "Epoch 12 -- LR 0.20000 -- Accuracy 0.97238%\n",
      "Epoch 13 -- LR 0.17500 -- Accuracy 0.97324%\n",
      "Epoch 14 -- LR 0.15000 -- Accuracy 0.97352%\n",
      "Epoch 15 -- LR 0.12500 -- Accuracy 0.97419%\n",
      "Epoch 16 -- LR 0.10000 -- Accuracy 0.97390%\n",
      "Epoch 17 -- LR 0.07500 -- Accuracy 0.97410%\n",
      "Epoch 18 -- LR 0.05000 -- Accuracy 0.97343%\n",
      "Epoch 19 -- LR 0.02500 -- Accuracy 0.97381%\n"
     ]
    }
   ],
   "source": [
    "model = NumpyNet(nodes = [784, 128, 64, 10], epochs = 20, lr = 0.5)\n",
    "model.train(x_train,y_train,x_test,y_test, batch_size = 4, lr_decay = True)"
   ]
  },
  {
   "cell_type": "code",
   "execution_count": 317,
   "metadata": {},
   "outputs": [
    {
     "data": {
      "text/plain": [
       "<matplotlib.image.AxesImage at 0x2450d116310>"
      ]
     },
     "execution_count": 317,
     "metadata": {},
     "output_type": "execute_result"
    },
    {
     "data": {
      "image/png": "[encoded data removed]",
      "text/plain": [
       "<Figure size 432x288 with 1 Axes>"
      ]
     },
     "metadata": {
      "needs_background": "light"
     },
     "output_type": "display_data"
    }
   ],
   "source": [
    "plt.imshow(x_test[110].reshape(28, 28), cmap='gray') #test a image"
   ]
  },
  {
   "cell_type": "code",
   "execution_count": 320,
   "metadata": {},
   "outputs": [
    {
     "data": {
      "text/plain": [
       "8"
      ]
     },
     "execution_count": 320,
     "metadata": {},
     "output_type": "execute_result"
    }
   ],
   "source": [
    "np.argmax(model.forward(x_test[110])) #predict the class of that image"
   ]
  },
  {
   "cell_type": "code",
   "execution_count": null,
   "metadata": {},
   "outputs": [],
   "source": []
  }
 ],
 "metadata": {
  "kernelspec": {
   "display_name": "Python 3",
   "language": "python",
   "name": "python3"
  },
  "language_info": {
   "codemirror_mode": {
    "name": "ipython",
    "version": 3
   },
   "file_extension": ".py",
   "mimetype": "text/x-python",
   "name": "python",
   "nbconvert_exporter": "python",
   "pygments_lexer": "ipython3",
   "version": "3.8.5"
  }
 },
 "nbformat": 4,
 "nbformat_minor": 4
}
